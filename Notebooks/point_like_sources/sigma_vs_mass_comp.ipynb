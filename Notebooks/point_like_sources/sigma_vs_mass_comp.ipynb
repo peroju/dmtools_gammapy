{
 "cells": [
  {
   "cell_type": "markdown",
   "id": "cc3f1966",
   "metadata": {},
   "source": [
    "# Want to plot the $<\\sigma v>$ vs. $m_{DM}$ constraints already obtained"
   ]
  },
  {
   "cell_type": "code",
   "execution_count": null,
   "id": "1e8b5e85",
   "metadata": {},
   "outputs": [],
   "source": [
    "%matplotlib inline\n",
    "# Check package versions\n",
    "import numpy as np\n",
    "import astropy\n",
    "import math\n",
    "\n",
    "import matplotlib\n",
    "import matplotlib.pyplot as plt\n",
    "from matplotlib.pyplot import gca\n",
    "import astropy.units as u\n",
    "\n",
    "print(\"numpy:\", np.__version__)\n",
    "print(\"astropy\", astropy.__version__)"
   ]
  },
  {
   "cell_type": "code",
   "execution_count": null,
   "id": "e9e68eb5",
   "metadata": {},
   "outputs": [],
   "source": [
    "# Define variables to read the files, channels and masses that were used for the fit\n",
    "channels = np.array(['b', 'tau', 'W'])\n",
    "masses = np.array([100, 250, 500, 750, 1000, 2500, 5000, 7500, 10000, 25000, 50000, 75000, 100000])\n",
    "means = np.zeros([len(channels), len(masses)])\n",
    "sigmas = np.zeros([len(channels), len(masses)])"
   ]
  },
  {
   "cell_type": "code",
   "execution_count": null,
   "id": "291b7ba6",
   "metadata": {},
   "outputs": [],
   "source": [
    "# Read files\n",
    "for i, ch in enumerate(channels):\n",
    "    \n",
    "    f1_name = 'mean_sigmav_{}.txt'.format(ch)\n",
    "    f1 = open(f1_name, 'r')\n",
    "\n",
    "    f2_name = '1sigma_sigmav_{}.txt'.format(ch)\n",
    "    f2 = open(f2_name, 'r')\n",
    "           \n",
    "    for j, m in enumerate(masses):\n",
    "        \n",
    "        line_1 = f1.readline()\n",
    "        columns_1 = line_1.split()\n",
    "        means[i, j] = columns_1[0]\n",
    "    \n",
    "        line_2 = f2.readline()\n",
    "        columns_2 = line_2.split()\n",
    "        sigmas[i, j] = columns_2[0]\n",
    "\n",
    "        j += 1\n",
    "            \n",
    "    f1.close()\n",
    "    f2.close()"
   ]
  },
  {
   "cell_type": "code",
   "execution_count": null,
   "id": "05bce9af",
   "metadata": {},
   "outputs": [],
   "source": [
    "# Plot the constraints\n",
    "matplotlib.rcParams['mathtext.fontset'] = 'stix'\n",
    "matplotlib.rcParams['font.family'] = 'STIXGeneral'\n",
    "\n",
    "fig_1 = plt.figure(figsize=(9,7))\n",
    "\n",
    "plt.plot(masses/1000, means[0], label=r'$b\\bar{b}$', c='crimson')\n",
    "plt.fill_between(masses/1000, means[0] - sigmas[0], means[0] + sigmas[0], color='crimson', alpha=0.2)\n",
    "\n",
    "plt.plot(masses/1000, means[1], label=r'$\\tau^+\\tau^-$', c='midnightblue')\n",
    "plt.fill_between(masses/1000, means[1] - sigmas[1], means[1] + sigmas[1], color='midnightblue', alpha=0.2)\n",
    "\n",
    "plt.plot(masses/1000, means[2], label=r'$W^+W^-$', c='darkgreen')\n",
    "plt.fill_between(masses/1000, means[2] - sigmas[2], means[2] + sigmas[2], color='darkgreen', alpha=0.2)\n",
    "\n",
    "plt.hlines(3e-26, 0.1, 100, ls=\"--\")\n",
    "plt.annotate(r'$<\\sigma v>_{thermal}$', (0.1, 4e-26), fontsize=15)\n",
    "\n",
    "plt.yscale('log')\n",
    "plt.xscale('log')\n",
    "plt.xlabel(r'$m_{DM}$ [TeV]', fontsize=15)\n",
    "plt.ylabel(r'$<\\sigma v$> [cm$^3$s$^{-1}$]', fontsize=15)\n",
    "plt.xlim(0.1, 100)\n",
    "plt.legend(bbox_to_anchor=(1.0, 0.3), fontsize=15)\n",
    "\n",
    "form = plt.FormatStrFormatter('$%g$')\n",
    "gca().xaxis.set_major_formatter(form)\n",
    "for tick in gca().xaxis.get_major_ticks():\n",
    "    tick.label.set_fontsize(15) \n",
    "for tick in gca().yaxis.get_major_ticks():\n",
    "    tick.label.set_fontsize(15)\n",
    "\n",
    "plt.show()"
   ]
  },
  {
   "cell_type": "code",
   "execution_count": null,
   "id": "e6373dcf",
   "metadata": {},
   "outputs": [],
   "source": [
    "# Save the figure\n",
    "fig_1.savefig('sigmav_vs_mass.png', bbox_inches='tight', quality=95, dpi=1000)"
   ]
  },
  {
   "cell_type": "code",
   "execution_count": null,
   "id": "8eeedf6f",
   "metadata": {},
   "outputs": [],
   "source": []
  }
 ],
 "metadata": {
  "kernelspec": {
   "display_name": "Python 3",
   "language": "python",
   "name": "python3"
  },
  "language_info": {
   "codemirror_mode": {
    "name": "ipython",
    "version": 3
   },
   "file_extension": ".py",
   "mimetype": "text/x-python",
   "name": "python",
   "nbconvert_exporter": "python",
   "pygments_lexer": "ipython3",
   "version": "3.7.0"
  },
  "toc": {
   "base_numbering": 1,
   "nav_menu": {},
   "number_sections": true,
   "sideBar": true,
   "skip_h1_title": false,
   "title_cell": "Table of Contents",
   "title_sidebar": "Contents",
   "toc_cell": false,
   "toc_position": {},
   "toc_section_display": true,
   "toc_window_display": false
  }
 },
 "nbformat": 4,
 "nbformat_minor": 5
}
