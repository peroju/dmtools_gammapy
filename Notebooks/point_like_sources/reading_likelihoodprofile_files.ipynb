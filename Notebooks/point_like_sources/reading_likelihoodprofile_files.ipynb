{
 "cells": [
  {
   "cell_type": "markdown",
   "id": "68fb69f3",
   "metadata": {},
   "source": [
    "# Notebook for plotting likelihood profiles"
   ]
  },
  {
   "cell_type": "code",
   "execution_count": null,
   "id": "b39a4185",
   "metadata": {},
   "outputs": [],
   "source": [
    "# Check package versions\n",
    "import numpy as np\n",
    "import astropy\n",
    "import math\n",
    "import matplotlib\n",
    "import matplotlib.pyplot as plt\n",
    "from matplotlib.pyplot import gca\n",
    "\n",
    "print(\"numpy:\", np.__version__)\n",
    "print(\"astropy\", astropy.__version__)\n",
    "print(\"matplotlib\", matplotlib.__version__)"
   ]
  },
  {
   "cell_type": "code",
   "execution_count": null,
   "id": "89ac470d",
   "metadata": {},
   "outputs": [],
   "source": [
    "# Function to compute the length of a file\n",
    "def len_file(f):\n",
    "    for i, l in enumerate(f):\n",
    "        pass\n",
    "    return i + 1"
   ]
  },
  {
   "cell_type": "markdown",
   "id": "6619b174",
   "metadata": {},
   "source": [
    "## Start of the process"
   ]
  },
  {
   "cell_type": "code",
   "execution_count": null,
   "id": "2f46f671",
   "metadata": {},
   "outputs": [],
   "source": [
    "# Open one of the family of files to check number of observations\n",
    "f0_name = 'results_b_100.txt'\n",
    "f0 = open(f0_name, 'r')"
   ]
  },
  {
   "cell_type": "code",
   "execution_count": null,
   "id": "044c234b",
   "metadata": {},
   "outputs": [],
   "source": [
    "# Check how many observations for each result file\n",
    "# One line of headers\n",
    "n_obs = int(len_file(f0)-1)\n",
    "print('The results files have', n_obs, 'simulated observations')\n",
    "f0.close()"
   ]
  },
  {
   "cell_type": "code",
   "execution_count": null,
   "id": "18753607",
   "metadata": {},
   "outputs": [],
   "source": [
    "# Define the channels and masses that were used for the fit\n",
    "channels = np.array([\"b\", \"tau\", \"W\"])\n",
    "masses = np.array([100, 250, 500, 750, 1000, 2500, 5000, 7500, 10000, 25000, 50000, 75000, 100000])\n",
    "best_norm = np.zeros([len(channels), len(masses), n_obs])\n",
    "stat_best = np.zeros([len(channels), len(masses), n_obs])"
   ]
  },
  {
   "cell_type": "code",
   "execution_count": null,
   "id": "37e9db46",
   "metadata": {},
   "outputs": [],
   "source": [
    "# Reading files with the x axis of the likelihood profile\n",
    "x_stat_profiles = np.zeros(50)\n",
    "\n",
    "f_name = 'x_stat_profile_b_100.txt'\n",
    "f = open(f_name, 'r')\n",
    "\n",
    "k = 0\n",
    "while k < 50:\n",
    "    line = f.readline()\n",
    "    columns = line.split()\n",
    "    x_stat_profiles = columns\n",
    "    k += 1\n",
    "\n",
    "f.close()"
   ]
  },
  {
   "cell_type": "code",
   "execution_count": null,
   "id": "c08c5437",
   "metadata": {},
   "outputs": [],
   "source": [
    "# Reading files with likelihood profiles\n",
    "stat_profiles = np.zeros([len(channels), len(masses), n_obs, 50])\n",
    "\n",
    "for i, ch in enumerate(channels):\n",
    "    for j, m in enumerate(masses):\n",
    "        f_name = 'stat_profile_b_100.txt'\n",
    "        f = open(f_name, 'r')\n",
    "\n",
    "        k = 0\n",
    "        while k < n_obs:\n",
    "            line = f.readline()\n",
    "            columns = line.split()\n",
    "            stat_profiles[i, j, k] = columns\n",
    "            k += 1\n",
    "\n",
    "    f.close()"
   ]
  },
  {
   "cell_type": "code",
   "execution_count": null,
   "id": "f33fa6c1",
   "metadata": {},
   "outputs": [],
   "source": [
    "# Plot the likelihood profile\n",
    "fig_1 = plt.figure()\n",
    "\n",
    "plt.plot(x_stat_profiles, stat_profiles[0, 0, 30])\n",
    "plt.xlim(10, 100)\n",
    "plt.xscale('log')\n",
    "plt.xlabel('scale/norm')\n",
    "plt.ylabel('statistics profile')\n",
    "\n",
    "form = plt.FormatStrFormatter('$%g$')\n",
    "gca().xaxis.set_major_formatter(form)"
   ]
  },
  {
   "cell_type": "code",
   "execution_count": null,
   "id": "46f8c9b1",
   "metadata": {},
   "outputs": [],
   "source": [
    "fig_1.savefig('likelihood_profile.png', bbox_inches='tight', quality=95, dpi=1000)"
   ]
  }
 ],
 "metadata": {
  "kernelspec": {
   "display_name": "Python 3",
   "language": "python",
   "name": "python3"
  },
  "language_info": {
   "codemirror_mode": {
    "name": "ipython",
    "version": 3
   },
   "file_extension": ".py",
   "mimetype": "text/x-python",
   "name": "python",
   "nbconvert_exporter": "python",
   "pygments_lexer": "ipython3",
   "version": "3.7.0"
  },
  "toc": {
   "base_numbering": 1,
   "nav_menu": {},
   "number_sections": true,
   "sideBar": true,
   "skip_h1_title": false,
   "title_cell": "Table of Contents",
   "title_sidebar": "Contents",
   "toc_cell": false,
   "toc_position": {},
   "toc_section_display": true,
   "toc_window_display": false
  }
 },
 "nbformat": 4,
 "nbformat_minor": 5
}
